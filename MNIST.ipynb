{
 "cells": [
  {
   "cell_type": "markdown",
   "metadata": {},
   "source": [
    "<h1><center>MNIST</center></h1>"
   ]
  },
  {
   "cell_type": "markdown",
   "metadata": {},
   "source": [
    "## 1. benötigte Bibliotheken importieren"
   ]
  },
  {
   "cell_type": "code",
   "execution_count": null,
   "metadata": {},
   "outputs": [],
   "source": [
    "import time\n",
    "import numpy as np\n",
    "import matplotlib.pyplot as plt\n",
    "from PIL import Image\n",
    "import tensorflow as tf\n",
    "from tensorflow.python.keras.models import Sequential\n",
    "from tensorflow.python.keras.layers import Dense, Dropout,Conv2D,MaxPooling2D,Flatten\n",
    "from tensorflow.python.keras.callbacks import TensorBoard\n",
    "from tensorflow.python.keras.callbacks import ModelCheckpoint"
   ]
  },
  {
   "cell_type": "markdown",
   "metadata": {},
   "source": [
    "## 2. Daten einlesen"
   ]
  },
  {
   "cell_type": "code",
   "execution_count": null,
   "metadata": {},
   "outputs": [],
   "source": [
    "(x_train, y_train), (x_val, y_val) = tf.keras.datasets.mnist.load_data()"
   ]
  },
  {
   "cell_type": "markdown",
   "metadata": {},
   "source": [
    "## 3. Daten prüfen"
   ]
  },
  {
   "cell_type": "code",
   "execution_count": null,
   "metadata": {},
   "outputs": [],
   "source": [
    "# 1 Bild anzeigen lassen\n",
    "image_index = 1 # You may select anything up to 60,000\n",
    "print(y_train[image_index]) # The label is 8\n",
    "plt.imshow(x_train[image_index], cmap='Greys')\n",
    "plt.show()"
   ]
  },
  {
   "cell_type": "code",
   "execution_count": null,
   "metadata": {},
   "outputs": [],
   "source": [
    "# Auflösung prüfen\n",
    "\n",
    "print(x_train.shape)"
   ]
  },
  {
   "cell_type": "code",
   "execution_count": null,
   "metadata": {},
   "outputs": [],
   "source": [
    "# 60000 Bilder vorhanden, jeweils mit einer 28 x 28 Auflösung"
   ]
  },
  {
   "cell_type": "markdown",
   "metadata": {},
   "source": [
    "## 4. Preprocessing"
   ]
  },
  {
   "cell_type": "code",
   "execution_count": null,
   "metadata": {},
   "outputs": [],
   "source": [
    "# Hier werden die Daten in ein maschinenfreundlicheres Format gebracht\n",
    "# Da die Daten aber schon schwarz-weiß sind \n",
    "# und eine 28x28 Auflösung besitzen fällt dieser Teil in diesem Beispiel fast komplett weg"
   ]
  },
  {
   "cell_type": "code",
   "execution_count": null,
   "metadata": {},
   "outputs": [],
   "source": [
    "# Da die Information über den Farbkanal nicht vorhanden ist, müssen wir sie hinzufügen"
   ]
  },
  {
   "cell_type": "code",
   "execution_count": null,
   "metadata": {},
   "outputs": [],
   "source": [
    "x_train = x_train.reshape(-1, 28, 28, 1) # Die 1. Position gibt an wie viele Bilder verwendet werden.\n",
    "                                         # -1 steht für eine beliebige Zahl\n",
    "x_val = x_val.reshape(-1, 28, 28, 1) "
   ]
  },
  {
   "cell_type": "code",
   "execution_count": null,
   "metadata": {},
   "outputs": [],
   "source": [
    "# Normalisieren"
   ]
  },
  {
   "cell_type": "code",
   "execution_count": null,
   "metadata": {},
   "outputs": [],
   "source": [
    "x_train = x_train.astype('float32')\n",
    "x_val = x_val.astype('float32')"
   ]
  },
  {
   "cell_type": "code",
   "execution_count": null,
   "metadata": {},
   "outputs": [],
   "source": [
    "x_train /= 255\n",
    "x_val /= 255"
   ]
  },
  {
   "cell_type": "markdown",
   "metadata": {},
   "source": [
    "## 5. Hyperparameter setzen"
   ]
  },
  {
   "cell_type": "code",
   "execution_count": null,
   "metadata": {},
   "outputs": [],
   "source": [
    "epoch = 10 # Anzahl der Durchläufe\n",
    "num_filters= 10 # Anzahl der Filter\n",
    "filter_size = 5 # Größe der Filter\n",
    "pool_size = 5 # Pool Größe\n",
    "DROP = 0.2 # wie viel % soll \"vergessen\" werden\n",
    "lr=0.001 # wie schnell soll gelernt werden\n",
    "DECAY = 1e-5 # wie schnell soll die Lernkurve abnehmen\n",
    "opt = tf.keras.optimizers.Adam(lr=0.001, decay=DECAY) # Adam als Optimizer festlegen"
   ]
  },
  {
   "cell_type": "markdown",
   "metadata": {},
   "source": [
    "## 6. Neuronales Netz bilden"
   ]
  },
  {
   "cell_type": "code",
   "execution_count": null,
   "metadata": {},
   "outputs": [],
   "source": [
    "model = Sequential([\n",
    "    Conv2D(num_filters, filter_size, input_shape=(28,28, 1), padding=\"same\"),\n",
    "    Dropout(DROP),\n",
    "    MaxPooling2D(pool_size=pool_size, padding=\"same\"),\n",
    "    Conv2D(num_filters, filter_size, padding=\"same\"),\n",
    "    Dropout(DROP),\n",
    "    Conv2D(num_filters, filter_size, padding=\"same\"),\n",
    "    Dropout(DROP),\n",
    "    MaxPooling2D(pool_size=pool_size, padding=\"same\"),\n",
    "    Conv2D(num_filters, filter_size, padding=\"same\"),\n",
    "    Dropout(DROP),\n",
    "    MaxPooling2D(pool_size=pool_size, padding=\"same\"),\n",
    "    Conv2D(num_filters, filter_size, padding=\"same\"),\n",
    "    Dropout(DROP),\n",
    "    Conv2D(num_filters, filter_size, padding=\"same\"),\n",
    "    Flatten(),\n",
    "\n",
    "    Dense(10, activation='softmax'),\n",
    "])"
   ]
  },
  {
   "cell_type": "code",
   "execution_count": null,
   "metadata": {},
   "outputs": [],
   "source": [
    "# Hierbei muss natürlich nicht jedes Layer gleich viele Filter und Filtergrößen besitzen\n",
    "# Das letzte Dense Layer hat 10 Neuronen, da es 10 mögliche Features gibt (0-9)."
   ]
  },
  {
   "cell_type": "code",
   "execution_count": null,
   "metadata": {},
   "outputs": [],
   "source": [
    "#Model summary anzeigen lassen für mehr Details\n",
    "model.summary()"
   ]
  },
  {
   "cell_type": "markdown",
   "metadata": {},
   "source": [
    "## 7. Model kompilieren"
   ]
  },
  {
   "cell_type": "code",
   "execution_count": null,
   "metadata": {},
   "outputs": [],
   "source": [
    "model.compile(loss=\"sparse_categorical_crossentropy\",\n",
    "              optimizer=opt,\n",
    "              metrics=[\"accuracy\"]\n",
    "              )"
   ]
  },
  {
   "cell_type": "code",
   "execution_count": null,
   "metadata": {},
   "outputs": [],
   "source": [
    "# loss gibt die Funktion an, mit der der Loss berechnet wird."
   ]
  },
  {
   "cell_type": "markdown",
   "metadata": {},
   "source": [
    "## 8. Speicherorte festlegen"
   ]
  },
  {
   "cell_type": "code",
   "execution_count": null,
   "metadata": {},
   "outputs": [],
   "source": [
    "NAME = f\"mnist-{int(time.time())}\"\n",
    "model.save_weights(f'Models_mnist/{NAME}-weights.h5')\n",
    "tensorboard = TensorBoard(log_dir=f\"Logs_mnist/{NAME}\")\n",
    "\n",
    "filepath = f\"mnist-num{num_filters}-size{filter_size}-pool{pool_size}-\"+\"{epoch:02d}-{val_acc:.3f}\"  \n",
    "checkpoint = ModelCheckpoint(\"Models_mnist/{}.model\".format(filepath, monitor='val_acc', verbose=1, save_best_only=True, mode='max'))\n"
   ]
  },
  {
   "cell_type": "markdown",
   "metadata": {},
   "source": [
    "## 9. Training starten"
   ]
  },
  {
   "cell_type": "code",
   "execution_count": null,
   "metadata": {},
   "outputs": [],
   "source": [
    "history = model.fit(\n",
    "    x_train, y_train,\n",
    "    epochs=epoch,\n",
    "    validation_data=(x_val,y_val),\n",
    "    callbacks = [tensorboard]\n",
    ")"
   ]
  },
  {
   "cell_type": "markdown",
   "metadata": {},
   "source": [
    "## 10. Neuronales Netz optimieren"
   ]
  },
  {
   "cell_type": "code",
   "execution_count": null,
   "metadata": {},
   "outputs": [],
   "source": [
    "# Dieses Neuronale Netz optimieren, indem man Hyperparameter oder die Art und Anzahl der Layer verändert\n",
    "# 98% Val_Acc möglich\n",
    "# Viel Spaß"
   ]
  }
 ],
 "metadata": {
  "kernelspec": {
   "display_name": "Python 3",
   "language": "python",
   "name": "python3"
  },
  "language_info": {
   "codemirror_mode": {
    "name": "ipython",
    "version": 3
   },
   "file_extension": ".py",
   "mimetype": "text/x-python",
   "name": "python",
   "nbconvert_exporter": "python",
   "pygments_lexer": "ipython3",
   "version": "3.7.3"
  }
 },
 "nbformat": 4,
 "nbformat_minor": 2
}
